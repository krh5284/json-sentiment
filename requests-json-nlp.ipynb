{
 "cells": [
  {
   "cell_type": "markdown",
   "metadata": {},
   "source": [
    "# Web Mining and Applied NLP (44-620)\n",
    "\n",
    "## Requests, JSON, and NLP\n",
    "\n",
    "### Student Name: Kellie Heckman https://github.com/krh5284\n",
    "\n",
    "Perform the tasks described in the Markdown cells below.  When you have completed the assignment make sure your code cells have all been run (and have output beneath them) and ensure you have committed and pushed ALL of your changes to your assignment repository.\n",
    "\n",
    "Make sure you have [installed spaCy and its pipeline](https://spacy.io/usage#quickstart) and [spaCyTextBlob](https://spacy.io/universe/project/spacy-textblob)\n",
    "\n",
    "Every question that requires you to write code will have a code cell underneath it; you may either write your entire solution in that cell or write it in a python file (`.py`), then import and run the appropriate code to answer the question.\n",
    "\n",
    "This assignment requires that you write additional files (either JSON or pickle files); make sure to submit those files in your repository as well."
   ]
  },
  {
   "cell_type": "markdown",
   "metadata": {},
   "source": [
    "1. The following code accesses the [lyrics.ovh](https://lyricsovh.docs.apiary.io/#reference/0/lyrics-of-a-song/search) public api, searches for the lyrics of a song, and stores it in a dictionary object.  Write the resulting json to a file (either a JSON file or a pickle file; you choose). You will read in the contents of this file for future questions so we do not need to frequently access the API."
   ]
  },
  {
   "cell_type": "code",
   "execution_count": 23,
   "metadata": {},
   "outputs": [],
   "source": [
    "import json\n",
    "import pickle\n",
    "import requests\n",
    "import spacy\n",
    "from spacytextblob.spacytextblob import SpacyTextBlob"
   ]
  },
  {
   "cell_type": "markdown",
   "metadata": {},
   "source": [
    "Question 1 Code below"
   ]
  },
  {
   "cell_type": "code",
   "execution_count": 35,
   "metadata": {},
   "outputs": [
    {
     "name": "stdout",
     "output_type": "stream",
     "text": [
      "Searching for \"They Might Be Giants\" by Birdhouse in Your Soul...\n",
      "Done.\n",
      "{'artist': 'They Might Be Giants', 'title': 'Birdhouse in Your Soul', 'lyrics': \"52 ContributorsBirdhouse in Your Soul Lyrics[Bridge]\\nI'm your only friend\\nI'm not your only friend\\nBut I'm a little glowing friend\\nBut really I'm not actually your friend\\nBut I am\\n\\n[Chorus]\\nBlue canary in the outlet by the light switch\\nWho watches over you\\nMake a little birdhouse in your soul\\nNot to put too fine a point on it\\nSay I'm the only bee in your bonnet\\nMake a little birdhouse in your soul\\n\\n[Verse 1]\\nI have a secret to tell\\nFrom my electrical well\\nIt's a simple message and I'm\\nLeaving out the whistles and bells\\nSo the room must listen to me\\nFilibuster vigilantly\\nMy name is blue canary\\nOne note spelled l-i-t-e\\nMy story's infinite\\nLike the Longines Symphonette\\nIt doesn't rest\\nSee They Might Be Giants LiveGet tickets as low as $59You might also like[Chorus]\\nBlue canary in the outlet by the light switch\\nWho watches over you\\nMake a little birdhouse in your soul\\nNot to put too fine a point on it\\nSay I'm the only bee in your bonnet\\nMake a little birdhouse in your soul\\n\\n[Bridge]\\nI'm your only friend\\nI'm not your only friend\\nBut I'm a little glowing friend\\nBut really I'm not actually your friend\\nBut I am\\n\\n[Verse 2]\\nThere's a picture opposite me\\nOf my primitive ancestry\\nWhich stood on rocky shores\\nAnd kept the beaches shipwreck-free\\nThough I respect that a lot\\nI'd be fired if that were my job\\nAfter killing Jason off\\nAnd countless screaming Argonauts\\nBlue bird of friendliness\\nLike guardian angels it's\\nAlways near\\n[Chorus 2]\\nBlue canary in the outlet by the light switch\\nWho watches over you\\nMake a little birdhouse in your soul\\nNot to put too fine a point on it\\nSay I'm the only bee in your bonnet\\nMake a little birdhouse in your soul\\nWhile you're at it\\nKeep the nightlight on inside\\nThe birdhouse in your soul\\nNot to put too fine a point on it\\nSay I'm the only bee in your bonnet\\nMake a little birdhouse in your soul\\nWhile you're at it\\nKeep the nightlight on inside\\nThe birdhouse in your soul\\n(Blue canary in the outlet by the light switch\\nWho watches over you\\nMake a little birdhouse in your soul)\\nMake a little birdhouse in your soul\\nWhile you're at it\\nKeep the nightlight on inside\\nThe birdhouse in your soul\\nNot to put too fine a point on it\\nSay I'm the only bee in your bonnet\\nMake a little birdhouse in your soul19Embed\"}\n"
     ]
    }
   ],
   "source": [
    "import requests\n",
    "import json\n",
    "\n",
    "import lyricsgenius\n",
    "\n",
    "genius = lyricsgenius.Genius('wO4rsPB4KuXhu6TqaI7LVs_YzeQoWgFACsSc3BOyDUoDsVP7ylwDCPmx-UQRJNLt')\n",
    "\n",
    "# Searching for Birdhouse in Your Soul by They Might be Giants\n",
    "song = genius.search_song('They Might Be Giants', 'Birdhouse in Your Soul')\n",
    "\n",
    "# Save the lyrics of the song so that they can be added to the dictionary quickly\n",
    "lyrics = song.lyrics\n",
    "\n",
    "# Creating the dictionary that contains artist, title, and the lyrics using the lyrics variable we created in the last step\n",
    "birdhouse_dict = {\n",
    "    'artist' : 'They Might Be Giants',\n",
    "    'title' : 'Birdhouse in Your Soul',\n",
    "    'lyrics' : lyrics}\n",
    "\n",
    "# Confirming the dictionary looks accurate\n",
    "print(birdhouse_dict)\n",
    "\n",
    "# Creating the json file for the dictionary\n",
    "with open('birdhouse.json', 'w') as new_file:\n",
    "    json.dump(birdhouse_dict, new_file)"
   ]
  },
  {
   "cell_type": "markdown",
   "metadata": {},
   "source": [
    "2. Read in the contents of your file. Print the lyrics of the song (not the entire dictionary!) and use spaCyTextBlob to perform sentiment analysis on the lyrics. Print the polarity score of the sentiment analysis. Given that the range of the polarity score is [-1.0,1.0] which corresponds to how positive or negative the text in question is, do you think the lyrics have a more positive or negative connotaion? Answer this question in a comment in your code cell."
   ]
  },
  {
   "cell_type": "markdown",
   "metadata": {},
   "source": [
    "Question 2 code"
   ]
  },
  {
   "cell_type": "code",
   "execution_count": 29,
   "metadata": {},
   "outputs": [
    {
     "name": "stdout",
     "output_type": "stream",
     "text": [
      "52 ContributorsBirdhouse in Your Soul Lyrics[Bridge]\n",
      "I'm your only friend\n",
      "I'm not your only friend\n",
      "But I'm a little glowing friend\n",
      "But really I'm not actually your friend\n",
      "But I am\n",
      "\n",
      "[Chorus]\n",
      "Blue canary in the outlet by the light switch\n",
      "Who watches over you\n",
      "Make a little birdhouse in your soul\n",
      "Not to put too fine a point on it\n",
      "Say I'm the only bee in your bonnet\n",
      "Make a little birdhouse in your soul\n",
      "\n",
      "[Verse 1]\n",
      "I have a secret to tell\n",
      "From my electrical well\n",
      "It's a simple message and I'm\n",
      "Leaving out the whistles and bells\n",
      "So the room must listen to me\n",
      "Filibuster vigilantly\n",
      "My name is blue canary\n",
      "One note spelled l-i-t-e\n",
      "My story's infinite\n",
      "Like the Longines Symphonette\n",
      "It doesn't rest\n",
      "See They Might Be Giants LiveGet tickets as low as $59You might also like[Chorus]\n",
      "Blue canary in the outlet by the light switch\n",
      "Who watches over you\n",
      "Make a little birdhouse in your soul\n",
      "Not to put too fine a point on it\n",
      "Say I'm the only bee in your bonnet\n",
      "Make a little birdhouse in your soul\n",
      "\n",
      "[Bridge]\n",
      "I'm your only friend\n",
      "I'm not your only friend\n",
      "But I'm a little glowing friend\n",
      "But really I'm not actually your friend\n",
      "But I am\n",
      "\n",
      "[Verse 2]\n",
      "There's a picture opposite me\n",
      "Of my primitive ancestry\n",
      "Which stood on rocky shores\n",
      "And kept the beaches shipwreck-free\n",
      "Though I respect that a lot\n",
      "I'd be fired if that were my job\n",
      "After killing Jason off\n",
      "And countless screaming Argonauts\n",
      "Blue bird of friendliness\n",
      "Like guardian angels it's\n",
      "Always near\n",
      "[Chorus 2]\n",
      "Blue canary in the outlet by the light switch\n",
      "Who watches over you\n",
      "Make a little birdhouse in your soul\n",
      "Not to put too fine a point on it\n",
      "Say I'm the only bee in your bonnet\n",
      "Make a little birdhouse in your soul\n",
      "While you're at it\n",
      "Keep the nightlight on inside\n",
      "The birdhouse in your soul\n",
      "Not to put too fine a point on it\n",
      "Say I'm the only bee in your bonnet\n",
      "Make a little birdhouse in your soul\n",
      "While you're at it\n",
      "Keep the nightlight on inside\n",
      "The birdhouse in your soul\n",
      "(Blue canary in the outlet by the light switch\n",
      "Who watches over you\n",
      "Make a little birdhouse in your soul)\n",
      "Make a little birdhouse in your soul\n",
      "While you're at it\n",
      "Keep the nightlight on inside\n",
      "The birdhouse in your soul\n",
      "Not to put too fine a point on it\n",
      "Say I'm the only bee in your bonnet\n",
      "Make a little birdhouse in your soul19Embed\n"
     ]
    }
   ],
   "source": [
    "# Opening the JSON file as opposed to using the API\n",
    "f = open('birdhouse.json',)\n",
    "\n",
    "# Storing the loaded json and printing only the key 'lyrics'\n",
    "dict = json.load(f)\n",
    "print(dict['lyrics'])"
   ]
  },
  {
   "cell_type": "code",
   "execution_count": 30,
   "metadata": {},
   "outputs": [
    {
     "name": "stdout",
     "output_type": "stream",
     "text": [
      "Polarity is 0.02575757575757576\n"
     ]
    }
   ],
   "source": [
    "# Creating a new code cell so that the polarity is separated from the lyrics\n",
    "import spacy\n",
    "from spacytextblob.spacytextblob import SpacyTextBlob\n",
    "\n",
    "nlp = spacy.load('en_core_web_sm')\n",
    "nlp.add_pipe('spacytextblob')\n",
    "\n",
    "# Creating a variable for just the lyrics from the dictionary \n",
    "string = dict['lyrics']\n",
    "\n",
    "# Running 'string' through 'nlp'\n",
    "blob = nlp(string)\n",
    "\n",
    "print('Polarity is', blob._.blob.polarity)\n",
    "\n",
    "# Polarity is hardly over zero so I would consider this song to be neutral"
   ]
  },
  {
   "cell_type": "markdown",
   "metadata": {},
   "source": [
    "3. Write a function that takes an artist, song, and filename, accesses the lyrics.ovh api to get the song lyrics, and writes the results to the specified filename.  Test this function by getting the lyrics to any four songs of your choice and storing them in different files."
   ]
  },
  {
   "cell_type": "markdown",
   "metadata": {},
   "source": [
    "Question 3 code"
   ]
  },
  {
   "cell_type": "code",
   "execution_count": 39,
   "metadata": {},
   "outputs": [
    {
     "name": "stdout",
     "output_type": "stream",
     "text": [
      "Searching for \"Hurricane\" by Thrice...\n",
      "Done.\n",
      "Searching for \"Sunshine!\" by Beartooth...\n",
      "Done.\n",
      "Searching for \"Falling Apart\" by Papa Roach...\n",
      "Done.\n",
      "Searching for \"All Your'n\" by Tyler Childers...\n",
      "Done.\n"
     ]
    }
   ],
   "source": [
    "def song_api_to_json(song, artist, filename):\n",
    "    # searching for the song via artist and title, afterwards I realised that the search \n",
    "    new_song = genius.search_song(song, artist)\n",
    "    # saving the lyrics as variable 'new_lyrics'\n",
    "    new_lyrics = new_song.lyrics\n",
    "    # saving the lyrics as a new json file\n",
    "    with open(filename, 'w') as new_file:\n",
    "        json.dump(new_lyrics, new_file)\n",
    "\n",
    "song_api_to_json('Hurricane', 'Thrice','hurricane.json')\n",
    "song_api_to_json('Sunshine!', 'Beartooth', 'sunshine.json')\n",
    "song_api_to_json('Falling Apart', 'Papa Roach', 'falling_apart.json')\n",
    "song_api_to_json(\"All Your'n\", 'Tyler Childers', \"all_your'n.json\")"
   ]
  },
  {
   "cell_type": "markdown",
   "metadata": {},
   "source": [
    "4. Write a function that takes the name of a file that contains song lyrics, loads the file, performs sentiment analysis, and returns the polarity score.  Use this function to print the polarity scores (with the name of the song) of the three files you created in question 3.  Does the reported polarity match your understanding of the song's lyrics? Why or why not do you think that might be?  Answer the questions in either a comment in the code cell or a markdown cell under the code cell."
   ]
  },
  {
   "cell_type": "code",
   "execution_count": null,
   "metadata": {},
   "outputs": [],
   "source": []
  }
 ],
 "metadata": {
  "kernelspec": {
   "display_name": "Python 3",
   "language": "python",
   "name": "python3"
  },
  "language_info": {
   "codemirror_mode": {
    "name": "ipython",
    "version": 3
   },
   "file_extension": ".py",
   "mimetype": "text/x-python",
   "name": "python",
   "nbconvert_exporter": "python",
   "pygments_lexer": "ipython3",
   "version": "3.9.15"
  }
 },
 "nbformat": 4,
 "nbformat_minor": 4
}
